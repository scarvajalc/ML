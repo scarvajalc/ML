{
 "cells": [
  {
   "cell_type": "markdown",
   "metadata": {},
   "source": [
    "# Lab 2 - Exercise 3 #\n",
    "## Modified by: Santiago Carvajal"
   ]
  },
  {
   "cell_type": "markdown",
   "metadata": {},
   "source": [
    "# Unigrams, Bigrams, and Trigrams in Naive Bayes Classifiers\n",
    "\n",
    "Math of Intelligence Week 6 Challenge - https://www.youtube.com/watch?v=PrkiRVcrxOs&t=7s\n",
    "\n",
    "In this notebook I will explore the performance of ngram words in a naive bayes classifier. I will look at how they perform across two data sets: \n",
    "    1) A Spam SMS dataset \n",
    "    2) Rap lines from Biggie Smalls and 2Pac"
   ]
  },
  {
   "cell_type": "code",
   "execution_count": 1,
   "metadata": {},
   "outputs": [],
   "source": [
    "import pandas as pd\n",
    "import numpy as np\n",
    "from sklearn.model_selection import train_test_split"
   ]
  },
  {
   "cell_type": "code",
   "execution_count": 2,
   "metadata": {},
   "outputs": [
    {
     "name": "stdout",
     "output_type": "stream",
     "text": [
      "[[1 'Chinese Beijing Chinese']\n",
      " [1 'Chinese Chinese Shanghai']\n",
      " [1 'Chinese Macao']\n",
      " [0 'Tokyo Japan Chinese']\n",
      " [1 'Chinese Chinese Chinese Tokyo Japan']]\n"
     ]
    }
   ],
   "source": [
    "#Read data from TABLE 13.1\n",
    "df = pd.read_csv('./Tabla131.csv', usecols=[0,1], encoding='latin-1')\n",
    "df.columns = ['label','body']\n",
    "# label spam as 1, not spam as 0\n",
    "df['label'] = df['label'].replace([\"no\",\"yes\"],[0,1])\n",
    "data_131 = df.values\n",
    "print(data_131)"
   ]
  },
  {
   "cell_type": "code",
   "execution_count": 3,
   "metadata": {},
   "outputs": [
    {
     "name": "stdout",
     "output_type": "stream",
     "text": [
      "[[1 'Taipei Taiwan']\n",
      " [1 'Macao Taiwan Shanghai']\n",
      " [0 'Japan Sapporo']\n",
      " [0 'Sapporo Osaka Taiwan']\n",
      " [0 'Taiwan Taiwan Sapporo']]\n"
     ]
    }
   ],
   "source": [
    "#Read data from TABLE 13.10\n",
    "df = pd.read_csv('./Tabla1310.csv', usecols=[0,1], encoding='latin-1')\n",
    "df.columns = ['label','body']\n",
    "# label spam as 1, not spam as 0\n",
    "df['label'] = df['label'].replace([\"no\",\"yes\"],[0,1])\n",
    "data_1310 = df.values\n",
    "print(data_1310)"
   ]
  },
  {
   "cell_type": "code",
   "execution_count": 4,
   "metadata": {},
   "outputs": [
    {
     "name": "stdout",
     "output_type": "stream",
     "text": [
      "[[1 'send us your password']\n",
      " [0 'send us your review']\n",
      " [0 'review your password']\n",
      " [1 'send us']\n",
      " [1 'send us your password']\n",
      " [1 'send us your account']\n",
      " [0 'review us now']]\n"
     ]
    }
   ],
   "source": [
    "#Read data from IAML Edimburg\n",
    "df = pd.read_csv('./IAML.csv', usecols=[0,1], encoding='latin-1')\n",
    "df.columns = ['label','body']\n",
    "# label spam as 1, not spam as 0\n",
    "df['label'] = df['label'].replace([\"ham\",\"spam\"],[0,1])\n",
    "data_iaml = df.values\n",
    "print(data_iaml)"
   ]
  },
  {
   "cell_type": "code",
   "execution_count": 5,
   "metadata": {},
   "outputs": [],
   "source": [
    "class ngrams_bayes():\n",
    "    \n",
    "    def __init__(self, data, n=2, split=0.8):\n",
    "        \n",
    "        # split into training and testing data\n",
    "        self.train_data, self.test_data = train_test_split(data,\n",
    "                                                          train_size=split, shuffle=False) #random_state=69)\n",
    "        # convert into n grams\n",
    "        self.train_data = [[item[0], self.ngrams(n, item[1])] for item in self.train_data]\n",
    "        self.test_data = [[item[0], self.ngrams(n, item[1])] for item in self.test_data]\n",
    "        \n",
    "        # count unique n grams in training data\n",
    "        flattened = [gram for message in self.train_data for gram in message[1]]\n",
    "        self.unique = len(set(flattened))\n",
    "        \n",
    "        # init dicts\n",
    "        self.trainPositive = {}\n",
    "        self.trainNegative = {}\n",
    "        # counters\n",
    "        self.posGramCount = 0\n",
    "        self.negGramCount = 0\n",
    "        self.spamCount = 0\n",
    "        # priors\n",
    "        self.pA = 0\n",
    "        self.pNotA = 0\n",
    "        \n",
    "    def printTrain(self):\n",
    "        print(self.train_data)\n",
    "        \n",
    "    def printTest(self):\n",
    "        print(self.test_data)\n",
    "        \n",
    "    def ngrams(self, n, text):\n",
    "        text = text.split(' ')\n",
    "        grams = []\n",
    "        for i in range(len(text)-n+1):\n",
    "            gram = ' '.join(text[i:i+n])\n",
    "            grams.append(gram)\n",
    "        return grams \n",
    "    \n",
    "    def train(self):\n",
    "        \n",
    "        for item in self.train_data:\n",
    "            label = item[0]\n",
    "            grams = item[1]\n",
    "            if label == 1:\n",
    "                self.spamCount += 1   \n",
    "            for gram in grams:\n",
    "                if label == 1:\n",
    "                    self.trainPositive[gram] = self.trainPositive.get(gram, 0) + 1\n",
    "                    self.posGramCount += 1\n",
    "                else:\n",
    "                    self.trainNegative[gram] = self.trainNegative.get(gram, 0) + 1\n",
    "                    self.negGramCount += 1\n",
    "                    \n",
    "        self.pA = self.spamCount/float(len(self.train_data))\n",
    "        self.pNotA = 1.0 - self.pA\n",
    "        \n",
    "    def classify(self, text, alpha=1.0):\n",
    "        \n",
    "        self.alpha = alpha\n",
    "        isSpam = self.pA * self.conditionalText(text, 1)\n",
    "        notSpam = self.pNotA * self.conditionalText(text, 0)\n",
    "        print(\"Document belong to China probability: \" + str(isSpam))\n",
    "        print(\"Document not in China probability: \" + str(notSpam))\n",
    "        if (isSpam > notSpam):\n",
    "            return 1\n",
    "        else:\n",
    "            return 0\n",
    "        \n",
    "    def conditionalText(self, grams, label):\n",
    "        result = 1.0\n",
    "        for ngram in grams:\n",
    "            result *= self.conditionalNgram(ngram, label)\n",
    "        return result\n",
    "    \n",
    "    def conditionalNgram(self, ngram, label):\n",
    "        alpha = self.alpha\n",
    "        if label == 1:\n",
    "            return ((self.trainPositive.get(ngram,0)+alpha) /\n",
    "                    float(self.posGramCount+alpha*self.unique))\n",
    "        else:\n",
    "            return ((self.trainNegative.get(ngram,0)+alpha) /\n",
    "                    float(self.negGramCount+alpha*self.unique))\n",
    "            \n",
    "    def evaluate_test_data(self):\n",
    "        results = []\n",
    "        for test in self.test_data:\n",
    "            label = test[0]\n",
    "            text = test[1]\n",
    "            ruling = self.classify(text)\n",
    "            if ruling == label:\n",
    "                results.append(1) \n",
    "            else:\n",
    "                results.append(0) \n",
    "                \n",
    "        print(\"Evaluated {} test cases. {:.2f}% Accuracy\".format(len(results), 100.0*sum(results)/float(len(results))))\n",
    "        return sum(results)/float(len(results))"
   ]
  },
  {
   "cell_type": "code",
   "execution_count": 6,
   "metadata": {},
   "outputs": [
    {
     "name": "stdout",
     "output_type": "stream",
     "text": [
      "--------Table 13.1 sets------------------------------------------------\n",
      "Train set :\n",
      "[[1, ['Chinese', 'Beijing', 'Chinese']], [1, ['Chinese', 'Chinese', 'Shanghai']], [1, ['Chinese', 'Macao']], [0, ['Tokyo', 'Japan', 'Chinese']]]\n",
      "Test set :\n",
      "[[1, ['Chinese', 'Chinese', 'Chinese', 'Tokyo', 'Japan']]]\n",
      "--------Table 13.10 sets------------------------------------------------\n",
      "Train set :\n",
      "[[1, ['Taipei', 'Taiwan']], [1, ['Macao', 'Taiwan', 'Shanghai']], [0, ['Japan', 'Sapporo']], [0, ['Sapporo', 'Osaka', 'Taiwan']]]\n",
      "Test set :\n",
      "[[0, ['Taiwan', 'Taiwan', 'Sapporo']]]\n",
      "--------IMAL data sets------------------------------------------------\n",
      "Train set :\n",
      "[[1, ['send', 'us', 'your', 'password']], [0, ['send', 'us', 'your', 'review']], [0, ['review', 'your', 'password']], [1, ['send', 'us']], [1, ['send', 'us', 'your', 'password']], [1, ['send', 'us', 'your', 'account']]]\n",
      "Test set :\n",
      "[[0, ['review', 'us', 'now']]]\n"
     ]
    },
    {
     "name": "stderr",
     "output_type": "stream",
     "text": [
      "C:\\Anaconda3\\lib\\site-packages\\sklearn\\model_selection\\_split.py:2026: FutureWarning: From version 0.21, test_size will always complement train_size unless both are specified.\n",
      "  FutureWarning)\n"
     ]
    }
   ],
   "source": [
    "print(\"--------Table 13.1 sets------------------------------------------------\")\n",
    "unigram_bayes = ngrams_bayes(data_131,1)\n",
    "print(\"Train set :\")\n",
    "unigram_bayes.printTrain()\n",
    "print(\"Test set :\")\n",
    "unigram_bayes.printTest()\n",
    "\n",
    "print(\"--------Table 13.10 sets------------------------------------------------\")\n",
    "unigram_bayes2 = ngrams_bayes(data_1310,1)\n",
    "print(\"Train set :\")\n",
    "unigram_bayes2.printTrain()\n",
    "print(\"Test set :\")\n",
    "unigram_bayes2.printTest()\n",
    "\n",
    "print(\"--------IMAL data sets------------------------------------------------\")\n",
    "unigram_bayes3 = ngrams_bayes(data_iaml,1,split=0.9)\n",
    "print(\"Train set :\")\n",
    "unigram_bayes3.printTrain()\n",
    "print(\"Test set :\")\n",
    "unigram_bayes3.printTest()"
   ]
  },
  {
   "cell_type": "code",
   "execution_count": 7,
   "metadata": {},
   "outputs": [],
   "source": [
    "unigram_bayes.train()\n",
    "unigram_bayes2.train()\n",
    "unigram_bayes3.train()"
   ]
  },
  {
   "cell_type": "code",
   "execution_count": 8,
   "metadata": {},
   "outputs": [
    {
     "name": "stdout",
     "output_type": "stream",
     "text": [
      "--------Table 13.1 results------------------------------------------------\n",
      "Document belong to China probability: 0.00030121377997263036\n",
      "Document not in China probability: 0.00013548070246744226\n",
      "Evaluated 1 test cases. 100.00% Accuracy\n",
      "--------Table 13.10 results------------------------------------------------\n",
      "Document belong to China probability: 0.0026041666666666665\n",
      "Document not in China probability: 0.003472222222222222\n",
      "Evaluated 1 test cases. 100.00% Accuracy\n",
      "--------IAML data results ------------------------------------------------\n",
      "Document belong to China probability: 0.00041666666666666675\n",
      "Document not in China probability: 0.000910332271279017\n",
      "Evaluated 1 test cases. 100.00% Accuracy\n"
     ]
    },
    {
     "data": {
      "text/plain": [
       "1.0"
      ]
     },
     "execution_count": 8,
     "metadata": {},
     "output_type": "execute_result"
    }
   ],
   "source": [
    "print(\"--------Table 13.1 results------------------------------------------------\")\n",
    "unigram_bayes.evaluate_test_data()\n",
    "print(\"--------Table 13.10 results------------------------------------------------\")\n",
    "unigram_bayes2.evaluate_test_data()\n",
    "print(\"--------IAML data results ------------------------------------------------\")\n",
    "unigram_bayes3.evaluate_test_data()"
   ]
  },
  {
   "cell_type": "code",
   "execution_count": 9,
   "metadata": {},
   "outputs": [
    {
     "name": "stdout",
     "output_type": "stream",
     "text": [
      "--------Table 13.1 results------------------------------------------------\n",
      "Document belong to China probability: 0.00014467592592592592\n",
      "Document not in China probability: 7.620789513793628e-05\n",
      "Evaluated 1 test cases. 100.00% Accuracy\n",
      "--------Table 13.10 results------------------------------------------------\n",
      "Document belong to China probability: 0.006172839506172839\n",
      "Document not in China probability: 0.006172839506172839\n",
      "Evaluated 1 test cases. 100.00% Accuracy\n",
      "--------IAML data results------------------------------------------------\n",
      "Document belong to China probability: 0.004166666666666667\n",
      "Document not in China probability: 0.0016000000000000005\n",
      "Document belong to China probability: 0.004166666666666667\n",
      "Document not in China probability: 0.004000000000000001\n",
      "Evaluated 2 test cases. 50.00% Accuracy\n"
     ]
    },
    {
     "name": "stderr",
     "output_type": "stream",
     "text": [
      "C:\\Anaconda3\\lib\\site-packages\\sklearn\\model_selection\\_split.py:2026: FutureWarning: From version 0.21, test_size will always complement train_size unless both are specified.\n",
      "  FutureWarning)\n"
     ]
    },
    {
     "data": {
      "text/plain": [
       "0.5"
      ]
     },
     "execution_count": 9,
     "metadata": {},
     "output_type": "execute_result"
    }
   ],
   "source": [
    "print(\"--------Table 13.1 results------------------------------------------------\")\n",
    "bigram_sms= ngrams_bayes(data_131,2) \n",
    "bigram_sms.train()\n",
    "bigram_sms.evaluate_test_data()\n",
    "print(\"--------Table 13.10 results------------------------------------------------\")\n",
    "bigram_sms2= ngrams_bayes(data_1310,2) \n",
    "bigram_sms2.train()\n",
    "bigram_sms2.evaluate_test_data()\n",
    "print(\"--------IAML data results------------------------------------------------\")\n",
    "bigram_sms3= ngrams_bayes(data_iaml,2) \n",
    "bigram_sms3.train()\n",
    "bigram_sms3.evaluate_test_data()"
   ]
  },
  {
   "cell_type": "code",
   "execution_count": 10,
   "metadata": {},
   "outputs": [
    {
     "name": "stdout",
     "output_type": "stream",
     "text": [
      "--------Table 13.1 results------------------------------------------------\n",
      "Document belong to China probability: 0.006000000000000002\n",
      "Document not in China probability: 0.00390625\n",
      "Evaluated 1 test cases. 100.00% Accuracy\n",
      "--------Table 13.10 results------------------------------------------------\n",
      "Document belong to China probability: 0.16666666666666666\n",
      "Document not in China probability: 0.16666666666666666\n",
      "Evaluated 1 test cases. 100.00% Accuracy\n",
      "--------IAML results------------------------------------------------\n",
      "Document belong to China probability: 0.028124999999999997\n",
      "Document not in China probability: 0.016326530612244896\n",
      "Document belong to China probability: 0.075\n",
      "Document not in China probability: 0.05714285714285714\n",
      "Evaluated 2 test cases. 50.00% Accuracy\n"
     ]
    },
    {
     "name": "stderr",
     "output_type": "stream",
     "text": [
      "C:\\Anaconda3\\lib\\site-packages\\sklearn\\model_selection\\_split.py:2026: FutureWarning: From version 0.21, test_size will always complement train_size unless both are specified.\n",
      "  FutureWarning)\n"
     ]
    },
    {
     "data": {
      "text/plain": [
       "0.5"
      ]
     },
     "execution_count": 10,
     "metadata": {},
     "output_type": "execute_result"
    }
   ],
   "source": [
    "print(\"--------Table 13.1 results------------------------------------------------\")\n",
    "trigram_sms = ngrams_bayes(data_131,3) \n",
    "trigram_sms.train()\n",
    "trigram_sms.evaluate_test_data()\n",
    "print(\"--------Table 13.10 results------------------------------------------------\")\n",
    "trigram_sms = ngrams_bayes(data_1310,3) \n",
    "trigram_sms.train()\n",
    "trigram_sms.evaluate_test_data()\n",
    "print(\"--------IAML results------------------------------------------------\")\n",
    "trigram_sms = ngrams_bayes(data_iaml,3) \n",
    "trigram_sms.train()\n",
    "trigram_sms.evaluate_test_data()"
   ]
  }
 ],
 "metadata": {
  "kernelspec": {
   "display_name": "Python 3",
   "language": "python",
   "name": "python3"
  },
  "language_info": {
   "codemirror_mode": {
    "name": "ipython",
    "version": 3
   },
   "file_extension": ".py",
   "mimetype": "text/x-python",
   "name": "python",
   "nbconvert_exporter": "python",
   "pygments_lexer": "ipython3",
   "version": "3.6.5"
  }
 },
 "nbformat": 4,
 "nbformat_minor": 2
}
